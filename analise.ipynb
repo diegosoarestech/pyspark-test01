{
 "cells": [
  {
   "cell_type": "code",
   "execution_count": 1,
   "metadata": {},
   "outputs": [],
   "source": [
    "# importando as bibliotecas necessarias\n",
    "from pyspark.sql import SparkSession\n",
    "from pyspark.sql import SQLContext\n",
    "from pyspark.sql.types import StructType, StructField, StringType, LongType, BooleanType"
   ]
  },
  {
   "cell_type": "code",
   "execution_count": 2,
   "metadata": {},
   "outputs": [],
   "source": [
    "# criando a sessão do spark\n",
    "spSession = SparkSession.builder.master(\"local\").appName(\"casePasseiDireto\").getOrCreate()"
   ]
  },
  {
   "cell_type": "code",
   "execution_count": 3,
   "metadata": {},
   "outputs": [],
   "source": [
    "# criando o Sql Context\n",
    "sqlContext = SQLContext(sc)"
   ]
  },
  {
   "cell_type": "code",
   "execution_count": 6,
   "metadata": {},
   "outputs": [],
   "source": [
    "# carregando o arquivo\n",
    "courses = spSession.read.json(\"Datasets/BASE A/courses.json\")"
   ]
  },
  {
   "cell_type": "code",
   "execution_count": 7,
   "metadata": {},
   "outputs": [
    {
     "name": "stdout",
     "output_type": "stream",
     "text": [
      "+-------+--------------------+\n",
      "|     Id|                Name|\n",
      "+-------+--------------------+\n",
      "|1199555| Engenharia Elétrica|\n",
      "|1199521|Economia / Ciênci...|\n",
      "|1199517|             Direito|\n",
      "|1199491| Ciências Ambientais|\n",
      "|1199573|  Engenharia Química|\n",
      "|1199553|Engenharia de Pro...|\n",
      "|1199536|Engenharia Ambiental|\n",
      "|1199725|             Química|\n",
      "|1199453|       Administração|\n",
      "|1199701|         Odontologia|\n",
      "|1199461|           Agronomia|\n",
      "|1199741|      Serviço Social|\n",
      "|1199532|Engenharia Aeroná...|\n",
      "|1199544|    Engenharia Civil|\n",
      "|1199724|Comunicação Socia...|\n",
      "|1199704|           Pedagogia|\n",
      "|1199699|            Nutrição|\n",
      "|6495411|      Gestão Pública|\n",
      "|1199687|            Medicina|\n",
      "|1199734|Relações Internac...|\n",
      "+-------+--------------------+\n",
      "only showing top 20 rows\n",
      "\n"
     ]
    }
   ],
   "source": [
    "courses.show()"
   ]
  },
  {
   "cell_type": "code",
   "execution_count": 8,
   "metadata": {
    "scrolled": false
   },
   "outputs": [
    {
     "name": "stdout",
     "output_type": "stream",
     "text": [
      "root\n",
      " |-- Id: long (nullable = true)\n",
      " |-- Name: string (nullable = true)\n",
      "\n"
     ]
    }
   ],
   "source": [
    "courses.printSchema()"
   ]
  },
  {
   "cell_type": "code",
   "execution_count": 9,
   "metadata": {},
   "outputs": [],
   "source": [
    "courses.registerTempTable(\"courses\")"
   ]
  },
  {
   "cell_type": "code",
   "execution_count": 10,
   "metadata": {},
   "outputs": [
    {
     "name": "stdout",
     "output_type": "stream",
     "text": [
      "+----+--------+\n",
      "|NAME|count(1)|\n",
      "+----+--------+\n",
      "+----+--------+\n",
      "\n"
     ]
    }
   ],
   "source": [
    "spSession.sql(\"\"\"\n",
    "    SELECT\n",
    "        NAME, \n",
    "        COUNT(*)\n",
    "    FROM\n",
    "        courses\n",
    "    GROUP\n",
    "        BY NAME\n",
    "    HAVING COUNT(*) > 1\n",
    "\"\"\").show()"
   ]
  },
  {
   "cell_type": "code",
   "execution_count": 11,
   "metadata": {},
   "outputs": [],
   "source": [
    "# carregando o arquivo\n",
    "sessions = spSession.read.json(\"Datasets/BASE A/sessions.json\")"
   ]
  },
  {
   "cell_type": "code",
   "execution_count": 12,
   "metadata": {},
   "outputs": [
    {
     "name": "stdout",
     "output_type": "stream",
     "text": [
      "+-------------------+-------------+--------------------+\n",
      "|   SessionStartTime|StudentClient|           StudentId|\n",
      "+-------------------+-------------+--------------------+\n",
      "|2017-11-18 15:47:33|      Website|0cade9bf00234e378...|\n",
      "|2017-11-20 22:21:13|      Website|0cade9bf00234e378...|\n",
      "|2017-11-20 22:35:31|      Website|0cade9bf00234e378...|\n",
      "|2017-11-20 23:35:46|      Website|0cade9bf00234e378...|\n",
      "|2017-11-23 21:24:00|      Website|0cade9bf00234e378...|\n",
      "|2017-11-24 02:08:08|      Website|0cade9bf00234e378...|\n",
      "|2017-11-13 13:12:49|      Website|8a501cab6c0a5a7e9...|\n",
      "|2017-11-06 21:34:45|      Website|b8a39150d98d74685...|\n",
      "|2017-11-20 15:26:09|      Website|b8a39150d98d74685...|\n",
      "|2017-11-20 21:40:32|      Website|b8a39150d98d74685...|\n",
      "|2017-11-28 21:40:03|      Website|b8a39150d98d74685...|\n",
      "|2017-11-02 11:04:17|      Website|0f6c90f966a70b84b...|\n",
      "|2017-11-03 14:19:56|      Website|0f6c90f966a70b84b...|\n",
      "|2017-11-06 11:59:36|      Website|0f6c90f966a70b84b...|\n",
      "|2017-11-09 15:09:56|      Website|0f6c90f966a70b84b...|\n",
      "|2017-11-15 14:37:10|      Website|0f6c90f966a70b84b...|\n",
      "|2017-11-20 22:27:53|      Website|0f6c90f966a70b84b...|\n",
      "|2017-11-21 17:38:22|      Website|388bf84cffb321938...|\n",
      "|2017-11-22 14:35:46|      Website|388bf84cffb321938...|\n",
      "|2017-11-06 20:33:29|      Website|5764c7b7c75f30474...|\n",
      "+-------------------+-------------+--------------------+\n",
      "only showing top 20 rows\n",
      "\n"
     ]
    }
   ],
   "source": [
    "sessions.show()"
   ]
  },
  {
   "cell_type": "code",
   "execution_count": 13,
   "metadata": {
    "scrolled": true
   },
   "outputs": [
    {
     "name": "stdout",
     "output_type": "stream",
     "text": [
      "root\n",
      " |-- SessionStartTime: string (nullable = true)\n",
      " |-- StudentClient: string (nullable = true)\n",
      " |-- StudentId: string (nullable = true)\n",
      "\n"
     ]
    }
   ],
   "source": [
    "sessions.printSchema()"
   ]
  },
  {
   "cell_type": "code",
   "execution_count": 14,
   "metadata": {
    "scrolled": true
   },
   "outputs": [],
   "source": [
    "sessions.registerTempTable(\"sessions\")"
   ]
  },
  {
   "cell_type": "code",
   "execution_count": 15,
   "metadata": {},
   "outputs": [
    {
     "name": "stdout",
     "output_type": "stream",
     "text": [
      "+----------------+-------------+---------+\n",
      "|SessionStartTime|StudentClient|StudentId|\n",
      "+----------------+-------------+---------+\n",
      "+----------------+-------------+---------+\n",
      "\n"
     ]
    }
   ],
   "source": [
    "spSession.sql(\"\"\"\n",
    "    SELECT\n",
    "        *\n",
    "    FROM\n",
    "        sessions\n",
    "    WHERE\n",
    "        StudentId IS NULL\n",
    "\"\"\").show()"
   ]
  },
  {
   "cell_type": "code",
   "execution_count": 16,
   "metadata": {},
   "outputs": [
    {
     "name": "stdout",
     "output_type": "stream",
     "text": [
      "+-------------+--------+\n",
      "|StudentClient|count(1)|\n",
      "+-------------+--------+\n",
      "|       Webapp|   13299|\n",
      "|          iOS|   34798|\n",
      "|      Website|  158674|\n",
      "|      Android|   77170|\n",
      "+-------------+--------+\n",
      "\n"
     ]
    }
   ],
   "source": [
    "spSession.sql(\"\"\"\n",
    "    SELECT\n",
    "        StudentClient, \n",
    "        COUNT(*)\n",
    "    FROM\n",
    "        sessions\n",
    "    GROUP\n",
    "        BY StudentClient\n",
    "    HAVING COUNT(*) > 1\n",
    "\"\"\").show()"
   ]
  },
  {
   "cell_type": "code",
   "execution_count": 17,
   "metadata": {},
   "outputs": [],
   "source": [
    "# carregando o arquivo\n",
    "student_follow_subject = spSession.read.json(\"Datasets/BASE A/student_follow_subject.json\")"
   ]
  },
  {
   "cell_type": "code",
   "execution_count": 18,
   "metadata": {
    "scrolled": true
   },
   "outputs": [
    {
     "name": "stdout",
     "output_type": "stream",
     "text": [
      "+--------------------+--------------------+---------+\n",
      "|          FollowDate|           StudentId|SubjectId|\n",
      "+--------------------+--------------------+---------+\n",
      "|2015-09-07 15:49:...|0cade9bf00234e378...|   682889|\n",
      "|2015-09-07 15:49:...|0cade9bf00234e378...|   684377|\n",
      "|2015-09-07 15:49:...|0cade9bf00234e378...|   698583|\n",
      "|2015-09-07 15:49:...|0cade9bf00234e378...|   757882|\n",
      "|2015-09-07 15:49:...|0cade9bf00234e378...|  1910475|\n",
      "|2015-12-07 16:17:...|8a501cab6c0a5a7e9...|   673956|\n",
      "|2015-12-07 16:17:...|8a501cab6c0a5a7e9...|   674245|\n",
      "|2015-12-07 16:17:...|8a501cab6c0a5a7e9...|   681478|\n",
      "|2015-12-07 16:17:...|8a501cab6c0a5a7e9...|   681925|\n",
      "|2015-12-07 16:17:...|8a501cab6c0a5a7e9...|   693487|\n",
      "|2016-05-30 10:31:...|b8a39150d98d74685...|   670492|\n",
      "|2016-05-30 10:31:...|b8a39150d98d74685...|   671126|\n",
      "|2016-05-30 10:31:...|b8a39150d98d74685...|   686806|\n",
      "|2016-05-30 10:31:...|b8a39150d98d74685...|   689481|\n",
      "|2016-05-30 10:31:...|b8a39150d98d74685...|  1663821|\n",
      "|2017-11-03 12:23:...|0f6c90f966a70b84b...|   670937|\n",
      "|2016-04-01 20:22:...|0f6c90f966a70b84b...|   671197|\n",
      "|2017-11-03 12:23:...|0f6c90f966a70b84b...|   673846|\n",
      "|2016-04-01 20:22:...|0f6c90f966a70b84b...|   674226|\n",
      "|2016-04-01 20:22:...|0f6c90f966a70b84b...|   695790|\n",
      "+--------------------+--------------------+---------+\n",
      "only showing top 20 rows\n",
      "\n"
     ]
    }
   ],
   "source": [
    "student_follow_subject.show()"
   ]
  },
  {
   "cell_type": "code",
   "execution_count": 19,
   "metadata": {},
   "outputs": [
    {
     "name": "stdout",
     "output_type": "stream",
     "text": [
      "root\n",
      " |-- FollowDate: string (nullable = true)\n",
      " |-- StudentId: string (nullable = true)\n",
      " |-- SubjectId: long (nullable = true)\n",
      "\n"
     ]
    }
   ],
   "source": [
    "student_follow_subject.printSchema()"
   ]
  },
  {
   "cell_type": "code",
   "execution_count": 20,
   "metadata": {},
   "outputs": [],
   "source": [
    "student_follow_subject.registerTempTable(\"student_follow_subject\")"
   ]
  },
  {
   "cell_type": "code",
   "execution_count": 21,
   "metadata": {},
   "outputs": [
    {
     "name": "stdout",
     "output_type": "stream",
     "text": [
      "+----------+---------+---------+\n",
      "|FollowDate|StudentId|SubjectId|\n",
      "+----------+---------+---------+\n",
      "+----------+---------+---------+\n",
      "\n"
     ]
    }
   ],
   "source": [
    "spSession.sql(\"\"\"\n",
    "    SELECT\n",
    "        *\n",
    "    FROM\n",
    "        student_follow_subject\n",
    "    WHERE\n",
    "        StudentId IS NULL\n",
    "    OR\n",
    "        SubjectId IS NULL\n",
    "\"\"\").show()"
   ]
  },
  {
   "cell_type": "code",
   "execution_count": 82,
   "metadata": {},
   "outputs": [],
   "source": [
    "# carregando o arquivo\n",
    "students = spSession.read.json(\"Datasets/BASE A/students.json\")"
   ]
  },
  {
   "cell_type": "code",
   "execution_count": 83,
   "metadata": {},
   "outputs": [
    {
     "name": "stdout",
     "output_type": "stream",
     "text": [
      "+----------------+--------+--------------------+--------------------+------------+----------------+-------------+------------+\n",
      "|            City|CourseId|                  Id|      RegisteredDate|SignupSource|           State|StudentClient|UniversityId|\n",
      "+----------------+--------+--------------------+--------------------+------------+----------------+-------------+------------+\n",
      "|  Rio de Janeiro| 1199555|0cade9bf00234e378...|2012-09-06 17:27:...|    Facebook|  Rio de Janeiro|         null|      664704|\n",
      "|  Rio de Janeiro| 1199521|8a501cab6c0a5a7e9...|2012-09-05 15:31:...|    Facebook|  Rio de Janeiro|         null|      664704|\n",
      "|            null| 1199517|b8a39150d98d74685...|2012-08-17 10:00:...|    Facebook|            null|         null|      661625|\n",
      "|  Rio de Janeiro| 1199491|0f6c90f966a70b84b...|2012-10-22 21:16:...|    Facebook|  Rio de Janeiro|         null|      664768|\n",
      "|            null| 1199573|388bf84cffb321938...|2012-10-24 01:48:...|    Facebook|    Minas Gerais|         null|      663106|\n",
      "|   Florianópolis| 1199521|5764c7b7c75f30474...|2012-11-07 17:23:...|    Facebook|  Santa Catarina|         null|      664138|\n",
      "|        Mesquita| 1199517|4522694e98b51ba30...|2012-08-21 15:13:...|    Facebook|  Rio de Janeiro|         null|      664742|\n",
      "|        Londrina| 1199553|0360730b79c8ecd04...|2012-11-22 23:51:...|    Facebook|          Paraná|         null|      663609|\n",
      "|  Rio de Janeiro| 1199491|668514e190e792018...|2012-10-22 21:16:...|       Email|  Rio de Janeiro|         null|      664768|\n",
      "|      Ouro Preto| 1199536|7c743c3365d9b9696...|2012-10-24 16:28:...|    Facebook|    Minas Gerais|         null|      663054|\n",
      "|          Viçosa| 1199725|09e1497357395b825...|2012-10-15 21:34:...|    Facebook|    Minas Gerais|         null|      663065|\n",
      "|            null| 1199453|29037b0a52c5b576d...|2012-10-30 17:02:...|       Email|    Minas Gerais|         null|      664565|\n",
      "|   Volta Redonda| 1199701|9f3a457a426cae314...|2012-08-21 15:27:...|    Facebook|  Rio de Janeiro|         null|      665419|\n",
      "|            null| 1199461|f0ec48700197a23c4...|2012-10-15 21:34:...|    Facebook|            null|         null|      663065|\n",
      "|São João del Rei| 1199555|57e35f4dbe1f277de...|2012-09-18 09:53:...|    Facebook|    Minas Gerais|         null|      663106|\n",
      "|        Brasília| 1199536|5247dbaa0d6cac436...|2012-09-10 20:26:...|    Facebook|Distrito Federal|         null|      662926|\n",
      "|        Sorocaba| 1199553|603aec86462715af4...|2012-12-03 19:55:...|    Facebook|       São Paulo|         null|      664240|\n",
      "|            null| 1199741|7e7d6eb03294f5a7f...|2012-09-10 20:26:...|       Email|Distrito Federal|         null|      662926|\n",
      "| Poços de Caldas| 1199517|735218971fa78ff17...|2012-09-26 02:29:...|    Facebook|    Minas Gerais|         null|      663134|\n",
      "|      Uberlândia| 1199532|3c912e19c1203ff04...|2012-10-15 21:34:...|    Facebook|    Minas Gerais|         null|      663075|\n",
      "+----------------+--------+--------------------+--------------------+------------+----------------+-------------+------------+\n",
      "only showing top 20 rows\n",
      "\n"
     ]
    }
   ],
   "source": [
    "students.show()"
   ]
  },
  {
   "cell_type": "code",
   "execution_count": 84,
   "metadata": {},
   "outputs": [
    {
     "name": "stdout",
     "output_type": "stream",
     "text": [
      "root\n",
      " |-- City: string (nullable = true)\n",
      " |-- CourseId: long (nullable = true)\n",
      " |-- Id: string (nullable = true)\n",
      " |-- RegisteredDate: string (nullable = true)\n",
      " |-- SignupSource: string (nullable = true)\n",
      " |-- State: string (nullable = true)\n",
      " |-- StudentClient: string (nullable = true)\n",
      " |-- UniversityId: long (nullable = true)\n",
      "\n"
     ]
    }
   ],
   "source": [
    "students.printSchema()"
   ]
  },
  {
   "cell_type": "code",
   "execution_count": 85,
   "metadata": {},
   "outputs": [],
   "source": [
    "students.registerTempTable(\"students\")"
   ]
  },
  {
   "cell_type": "code",
   "execution_count": 26,
   "metadata": {},
   "outputs": [
    {
     "name": "stdout",
     "output_type": "stream",
     "text": [
      "+----+--------+---+--------------+------------+-----+-------------+------------+\n",
      "|City|CourseId| Id|RegisteredDate|SignupSource|State|StudentClient|UniversityId|\n",
      "+----+--------+---+--------------+------------+-----+-------------+------------+\n",
      "+----+--------+---+--------------+------------+-----+-------------+------------+\n",
      "\n"
     ]
    }
   ],
   "source": [
    "spSession.sql(\"\"\"\n",
    "    SELECT\n",
    "        CITY\n",
    "    FROM\n",
    "        students\n",
    "    WHERE\n",
    "        ID IS NULL \n",
    "    OR\n",
    "        CourseId IS NULL\n",
    "\"\"\").show()"
   ]
  },
  {
   "cell_type": "code",
   "execution_count": null,
   "metadata": {},
   "outputs": [],
   "source": []
  },
  {
   "cell_type": "code",
   "execution_count": 27,
   "metadata": {},
   "outputs": [],
   "source": [
    "# carregando o arquivo\n",
    "subjects = spSession.read.json(\"Datasets/BASE A/subjects.json\")"
   ]
  },
  {
   "cell_type": "code",
   "execution_count": 28,
   "metadata": {},
   "outputs": [
    {
     "name": "stdout",
     "output_type": "stream",
     "text": [
      "+-------+--------------------+\n",
      "|     Id|                Name|\n",
      "+-------+--------------------+\n",
      "| 682889|       Eletrônica II|\n",
      "| 684377|Circuitos Elétric...|\n",
      "| 698583|          Eletrônica|\n",
      "| 757882|        Circuitos II|\n",
      "|1910475|Circuitos Elétric...|\n",
      "| 673956|Teoria Microeconô...|\n",
      "| 674245|       Econometria I|\n",
      "| 681478|     Microeconomia 2|\n",
      "| 681925|     Microeconomia 1|\n",
      "| 693487|Métodos Quantitat...|\n",
      "| 670492|Direito Administr...|\n",
      "| 671126|Direito Constituc...|\n",
      "| 686806|             Direito|\n",
      "| 689481|     Direito Civil I|\n",
      "|1663821|Extras (livros, C...|\n",
      "| 670937|   Direito Ambiental|\n",
      "| 671197|         Estatística|\n",
      "| 673846|            Ecologia|\n",
      "| 674226|    Geoprocessamento|\n",
      "| 695790|Sistemas de Infor...|\n",
      "+-------+--------------------+\n",
      "only showing top 20 rows\n",
      "\n"
     ]
    }
   ],
   "source": [
    "subjects.show()"
   ]
  },
  {
   "cell_type": "code",
   "execution_count": 29,
   "metadata": {},
   "outputs": [
    {
     "name": "stdout",
     "output_type": "stream",
     "text": [
      "root\n",
      " |-- Id: long (nullable = true)\n",
      " |-- Name: string (nullable = true)\n",
      "\n"
     ]
    }
   ],
   "source": [
    "subjects.printSchema()"
   ]
  },
  {
   "cell_type": "code",
   "execution_count": 30,
   "metadata": {},
   "outputs": [],
   "source": [
    "subjects.registerTempTable(\"subjects\")"
   ]
  },
  {
   "cell_type": "code",
   "execution_count": 31,
   "metadata": {},
   "outputs": [
    {
     "name": "stdout",
     "output_type": "stream",
     "text": [
      "+---+----+\n",
      "| Id|Name|\n",
      "+---+----+\n",
      "+---+----+\n",
      "\n"
     ]
    }
   ],
   "source": [
    "spSession.sql(\"\"\"\n",
    "    SELECT\n",
    "        *\n",
    "    FROM\n",
    "        subjects\n",
    "    WHERE\n",
    "        ID IS NULL \n",
    "\"\"\").show()"
   ]
  },
  {
   "cell_type": "code",
   "execution_count": 32,
   "metadata": {},
   "outputs": [],
   "source": [
    "# carregando o arquivo\n",
    "subscriptions = spSession.read.json(\"Datasets/BASE A/subscriptions.json\")"
   ]
  },
  {
   "cell_type": "code",
   "execution_count": 33,
   "metadata": {},
   "outputs": [
    {
     "name": "stdout",
     "output_type": "stream",
     "text": [
      "+--------------------+--------+--------------------+\n",
      "|         PaymentDate|PlanType|           StudentId|\n",
      "+--------------------+--------+--------------------+\n",
      "|2017-11-14 19:52:...|  Mensal|29037b0a52c5b576d...|\n",
      "|2017-11-08 11:52:...|  Mensal|b2bace77d15c3dfaf...|\n",
      "|2017-11-05 21:27:...|  Mensal|f423d6fe2f8964db6...|\n",
      "|2017-11-15 14:36:...|  Mensal|55ccbe518d2edbbd5...|\n",
      "|2017-11-12 22:19:...|  Mensal|b1b0f63fe3e4820cb...|\n",
      "|2017-11-22 01:03:...|  Mensal|ed46832f6b716fb2e...|\n",
      "|2017-11-24 19:03:...|  Mensal|69b7bee32821cf76b...|\n",
      "|2017-11-11 21:01:...|  Mensal|6553923125fe6364e...|\n",
      "|2017-11-12 16:41:...|  Mensal|3903a334d1af8ce83...|\n",
      "|2017-11-21 11:52:...|  Mensal|4487f81a4ea9b3c3c...|\n",
      "|2017-11-06 22:14:...|  Mensal|bde8436a92ab53ce2...|\n",
      "|2017-11-17 19:30:...|  Mensal|3ae094228e1b9324e...|\n",
      "|2017-11-10 22:33:...|  Mensal|5a0df378119b95d3c...|\n",
      "|2017-11-08 22:06:...|  Mensal|fed3de568756e019f...|\n",
      "|2017-11-01 18:14:...|  Mensal|68beec3e289e3316e...|\n",
      "|2017-11-10 15:22:...|  Mensal|ecb4e29cd9585b080...|\n",
      "|2017-11-09 01:10:...|  Mensal|2e34dfda3cca387a7...|\n",
      "|2017-11-08 00:41:...|  Mensal|85529f64c1428b69f...|\n",
      "|2017-11-30 12:57:...|  Mensal|a189c626b75ca9925...|\n",
      "|2017-11-13 12:20:...|  Mensal|fe9f61ef8539dfbdb...|\n",
      "+--------------------+--------+--------------------+\n",
      "only showing top 20 rows\n",
      "\n"
     ]
    }
   ],
   "source": [
    "subscriptions.show()"
   ]
  },
  {
   "cell_type": "code",
   "execution_count": 34,
   "metadata": {},
   "outputs": [
    {
     "name": "stdout",
     "output_type": "stream",
     "text": [
      "root\n",
      " |-- PaymentDate: string (nullable = true)\n",
      " |-- PlanType: string (nullable = true)\n",
      " |-- StudentId: string (nullable = true)\n",
      "\n"
     ]
    }
   ],
   "source": [
    "subscriptions.printSchema()"
   ]
  },
  {
   "cell_type": "code",
   "execution_count": 35,
   "metadata": {},
   "outputs": [],
   "source": [
    "subscriptions.registerTempTable(\"subscriptions\")"
   ]
  },
  {
   "cell_type": "code",
   "execution_count": 36,
   "metadata": {},
   "outputs": [
    {
     "name": "stdout",
     "output_type": "stream",
     "text": [
      "+-----------+--------+---------+\n",
      "|PaymentDate|PlanType|StudentId|\n",
      "+-----------+--------+---------+\n",
      "+-----------+--------+---------+\n",
      "\n"
     ]
    }
   ],
   "source": [
    "spSession.sql(\"\"\"\n",
    "    SELECT\n",
    "        *\n",
    "    FROM\n",
    "        subscriptions\n",
    "    WHERE\n",
    "        StudentId IS NULL \n",
    "\"\"\").show()"
   ]
  },
  {
   "cell_type": "code",
   "execution_count": 37,
   "metadata": {},
   "outputs": [
    {
     "name": "stdout",
     "output_type": "stream",
     "text": [
      "+--------+--------+\n",
      "|PLANTYPE|count(1)|\n",
      "+--------+--------+\n",
      "|  Mensal|     739|\n",
      "|   Anual|      60|\n",
      "+--------+--------+\n",
      "\n"
     ]
    }
   ],
   "source": [
    "spSession.sql(\"\"\"\n",
    "    SELECT\n",
    "        PLANTYPE, \n",
    "        COUNT(*)\n",
    "    FROM\n",
    "        SUBSCRIPTIONS\n",
    "    GROUP\n",
    "        BY PLANTYPE\n",
    "\"\"\").show()"
   ]
  },
  {
   "cell_type": "code",
   "execution_count": 40,
   "metadata": {},
   "outputs": [],
   "source": [
    "# carregando arquivo\n",
    "universities = spSession.read.json(\"Datasets/BASE A/universities.json\")"
   ]
  },
  {
   "cell_type": "code",
   "execution_count": 42,
   "metadata": {},
   "outputs": [
    {
     "name": "stdout",
     "output_type": "stream",
     "text": [
      "+------+-----------+\n",
      "|    Id|       Name|\n",
      "+------+-----------+\n",
      "|664704|       UERJ|\n",
      "|661625|    PUC-RIO|\n",
      "|664768|     UNIRIO|\n",
      "|663106|       UFSJ|\n",
      "|664138|       UFSC|\n",
      "|664742|       UFRJ|\n",
      "|663609|     PUC-PR|\n",
      "|663054|       UFOP|\n",
      "|663065|        UFV|\n",
      "|664565|ESTÁCIO EAD|\n",
      "|665419|     UNIFOA|\n",
      "|662926|        UNB|\n",
      "|664240|     UFSCAR|\n",
      "|663134|  PUC-MINAS|\n",
      "|663075|        UFU|\n",
      "|664623|    ESTÁCIO|\n",
      "|665677|        UVV|\n",
      "|662981|        UFG|\n",
      "|663165|       UFMG|\n",
      "|662944|       UFES|\n",
      "+------+-----------+\n",
      "only showing top 20 rows\n",
      "\n"
     ]
    }
   ],
   "source": [
    "universities.show()"
   ]
  },
  {
   "cell_type": "code",
   "execution_count": 43,
   "metadata": {},
   "outputs": [
    {
     "name": "stdout",
     "output_type": "stream",
     "text": [
      "root\n",
      " |-- Id: long (nullable = true)\n",
      " |-- Name: string (nullable = true)\n",
      "\n"
     ]
    }
   ],
   "source": [
    "universities.printSchema()"
   ]
  },
  {
   "cell_type": "code",
   "execution_count": 44,
   "metadata": {},
   "outputs": [],
   "source": [
    "universities.registerTempTable(\"universities\")"
   ]
  },
  {
   "cell_type": "code",
   "execution_count": 45,
   "metadata": {},
   "outputs": [
    {
     "name": "stdout",
     "output_type": "stream",
     "text": [
      "+---+----+\n",
      "| Id|Name|\n",
      "+---+----+\n",
      "+---+----+\n",
      "\n"
     ]
    }
   ],
   "source": [
    "spSession.sql(\"\"\"\n",
    "    SELECT\n",
    "        *\n",
    "    FROM\n",
    "        universities\n",
    "    WHERE\n",
    "        id IS NULL\n",
    "\"\"\").show()"
   ]
  },
  {
   "cell_type": "code",
   "execution_count": 46,
   "metadata": {},
   "outputs": [
    {
     "name": "stdout",
     "output_type": "stream",
     "text": [
      "+---------+--------+\n",
      "|     Name|count(1)|\n",
      "+---------+--------+\n",
      "|     IFES|       3|\n",
      "|   FAFIPA|       2|\n",
      "|     FASF|       2|\n",
      "|     IESB|       2|\n",
      "|     IBES|       2|\n",
      "|    UNORP|       2|\n",
      "|     FAIT|       2|\n",
      "|       FC|       3|\n",
      "|    ITPAC|       5|\n",
      "|      FAR|       4|\n",
      "|     FAPI|       4|\n",
      "|      FSM|       2|\n",
      "|   UNIPAC|       4|\n",
      "|      FIB|       3|\n",
      "|    FAMEC|       2|\n",
      "|  PROMOVE|       3|\n",
      "|   FACSUL|       3|\n",
      "|UNIBRATEC|       2|\n",
      "|      FAA|       3|\n",
      "|      FAL|       3|\n",
      "+---------+--------+\n",
      "only showing top 20 rows\n",
      "\n"
     ]
    }
   ],
   "source": [
    "spSession.sql(\"\"\"\n",
    "    SELECT\n",
    "        Name,\n",
    "        COUNT(*)\n",
    "    FROM\n",
    "        universities\n",
    "    GROUP\n",
    "        BY Name\n",
    "    HAVING\n",
    "        COUNT(*) > 1\n",
    "\"\"\").show()"
   ]
  },
  {
   "cell_type": "code",
   "execution_count": 62,
   "metadata": {},
   "outputs": [],
   "source": [
    "# carregando arquivo\n",
    "events = spSession.read.json(\"Datasets/BASE B/*.json\")"
   ]
  },
  {
   "cell_type": "code",
   "execution_count": 63,
   "metadata": {},
   "outputs": [
    {
     "name": "stdout",
     "output_type": "stream",
     "text": [
      "+-------------------+-------------+---------------+--------------------+---------------+--------------------+-------------------+----------------+--------------------+---------+---------+-------+-----------+--------------------+--------+-----------+----------+-------------------+--------------------+--------+-----------+--------------------+----------------+----------------+------------+---------+---+-------+-----------+------+--------------------+--------------------+----+---------+--------------------+\n",
      "|  Last Accessed Url|Page Category|Page Category 1|     Page Category 2|Page Category 3|           Page Name|                 at|         browser|             carrier|city_name|clv_total|country|   custom_1|            custom_2|custom_3|   custom_4|device_new|first-accessed-page|        install_uuid|language|library_ver|  marketing_campaign|marketing_medium|marketing_source|       model|     name|nth| os_ver|   platform|region|        session_uuid|studentId_clientType|type|user_type|                uuid|\n",
      "+-------------------+-------------+---------------+--------------------+---------------+--------------------+-------------------+----------------+--------------------+---------+---------+-------+-----------+--------------------+--------+-----------+----------+-------------------+--------------------+--------+-----------+--------------------+----------------+----------------+------------+---------+---+-------+-----------+------+--------------------+--------------------+----+---------+--------------------+\n",
      "|               null|   disciplina|     disciplina|    ciencia-politica|      Undefined|/disciplina/cienc...|2017-11-16 18:45:36|       Chrome 61|        Claro Brazil|     null|     null|     br|ESTÁCIO EAD|             Direito|commerce|  Core User|     false|            arquivo|39a355a22a57e313b...|      pt|  web_3.3.3|                null|            null|            null|       Win32|Page View| 23|       | Windows 10|  null|1b0e77d19fd5de94e...|9890d41d77e4474e1...|   e|    known|2585063e8fa990559...|\n",
      "|               null|       topico|         topico|   Fontes-do-Direito|      Undefined|/topico/Fontes-do...|2017-11-16 18:45:49|       Chrome 62|Infornet Servico ...|     null|     null|     br|       null|                null|    null|       null|     false|               null|438ae31e57bd2387e...|      pt|  web_3.3.3|                null|            null|            null|       Win32|Page View|  3|       |  Windows 7|  null|dd20874f0db5e7a77...|                null|   e|anonymous|9163fea1aea159a57...|\n",
      "|               null|   disciplina|     disciplina|introducao-a-admi...|      Undefined|/disciplina/intro...|2017-11-16 18:45:47|       Chrome 62|Telefonica Brasil...|     null|     null|     br|    ESTÁCIO|           Logística|    null|  Core User|     false|            arquivo|040444fe076473229...|      pt|  web_3.3.3|                null|            null|            null|       Win32|Page View|152|       | Windows 10|  null|8d31342deeba22422...|4a2ed27fdb8b6edb1...|   e|    known|c7b021975cd97cd0b...|\n",
      "|/explorar-materiais|        busca|          busca|           Undefined|      Undefined|/busca?q=desafio%...|2017-11-16 18:46:06|       Chrome 62|Telefonica Brasil...|     null|     null|     br| Anhanguera|       Administração|commerce|Casual User|     false|            arquivo|eaabd4ec757d36c91...|      pt|  web_3.3.3|                null|            null|            null|       Win32|Page View|  9|       | Windows 10|  null|f3d925828c5464fb6...|a5d0f83e79388edc0...|   e|    known|81c749e3fbb0617f4...|\n",
      "|               null|         home|      Undefined|           Undefined|      Undefined|                   /|2017-11-16 18:45:56|       Chrome 62|        Claro Brazil|     null|     null|     br|    ESTÁCIO|Formação de Profe...|    null|  Cold User|     false|            arquivo|f35a817b757ff9faf...|      pt|  web_3.3.3|                null|            null|            null|       Win32|Page View|  2|       | Windows 10|  null|70617dcd00ed2c217...|a00f4675c77f7d6bc...|   e|    known|9387b16f1b56862e3...|\n",
      "|               null|        busca|           null|                null|           null|       /busca?tipo=1|2017-11-16 18:46:14|Chrome Mobile 61|Telefonica Brasil...|     null|     null|     br|       null|                null|    null|       null|     false|               null|b89785a24b2174710...|      pt|  web_3.3.3|                null|            null|            null|Linux armv7l|Page View|  2|  4.4.4|    Android|  null|3a0d0df5a158b6cdf...|8caa95c9ba65b1a2e...|   e|    known|71246f6e164b2c391...|\n",
      "|               null|     cadastro|       cadastro|           Undefined|      Undefined|    /cadastro/passo1|2017-11-16 18:46:09|       Chrome 62|Conexao - Telecom...|     null|     null|     br|    unknown|             unknown|    null|    unknown|      true|            arquivo|bf8586479789fb324...|      pt|  web_3.3.3|                null|            null|            null|       Win32|Page View|  1|       |  Windows 7|  null|6bd9ea0ea1f7300ec...|f8287bf756b77167f...|   e|    known|e7dd785d81c317dd5...|\n",
      "|               null|   disciplina|     disciplina|           pedagogia|      Undefined|/disciplina/pedag...|2017-11-16 18:46:06|      Firefox 56|Associacao Rede N...|     null|    11600|     br|    UNINTER|Licenciatura em F...|    null|  Cold User|     false|            arquivo|b0a8a3e2175e62e2e...|      pt|  web_3.3.3|                null|            null|            null|       Win64|Page View|  2|       |  Windows 7|  null|241e19577ada0c633...|a68bc0458d98ce5e7...|   e|    known|f2ec16090e05a990b...|\n",
      "|               null|   disciplina|     disciplina|          topografia|      Undefined|/disciplina/topog...|2017-11-16 18:46:19|       Chrome 62|        Claro Brazil|     null|     null|     br|      UNIPÊ|  Engenharia Hídrica|commerce|Casual User|     false|            arquivo|2856830bfb90e5a40...|      pt|  web_3.3.3|                null|            null|            null|       Win32|Page View|  6|       |  Windows 7|  null|b9949c266474f7f92...|e2d6008132a1c3f2f...|   e|    known|ac9e9f00bbdd3564a...|\n",
      "|               null|   disciplina|     disciplina|metodologia--prat...|      Undefined|/disciplina/metod...|2017-11-16 18:46:35|        Safari 9|Telefonica Brasil...|     null|     null|     br|    UNINTER|           Pedagogia|    null|  Core User|      true|            arquivo|86ec8d33b9b32e4d5...|      pt|  web_3.3.3|                null|            null|            null|    MacIntel|Page View|  1|10.11.6|   Mac OS X|  null|5e3612f18a8a0b215...|cdaa1e85452260205...|   e|    known|eb124f33556c5ca5c...|\n",
      "|     /ranking/curso|   disciplina|     disciplina|modelagem-de-sist...|      Undefined|/disciplina/model...|2017-11-16 18:46:30|       Chrome 61|        Claro Brazil|     null|     null|     br|ESTÁCIO EAD|Análise e Desenvo...|    null|  Core User|     false|            arquivo|11e083ea69a077c07...|      pt|  web_3.3.3|                null|            null|            null|       Win32|Page View| 11|       |  Windows 7|  null|9f71fa1900ac6205b...|9d267676dbc0f33de...|   e|    known|0cba03cd9164e2f12...|\n",
      "|               null|   disciplina|     disciplina|   direito-ambiental|      Undefined|/disciplina/direi...|2017-11-16 18:46:29|       Chrome 61|Ponto A Ponto Tel...|     null|     null|     br|    ESTÁCIO|       Administração|commerce|  Core User|     false|            arquivo|fb54f76f5c90f868a...|      pt|  web_3.3.3|                null|            null|            null|       Win32|Page View| 25|       | Windows 10|  null|e86eb23fa2b0b491c...|b2605769b626f7700...|   e|    known|7c82d84df03d1a3a2...|\n",
      "|               null|   disciplina|     disciplina|metodologia-de-pe...|      Undefined|/disciplina/metod...|2017-11-16 18:45:56|       Chrome 62|Telefonica Brasil...|     null|     null|     br|    ESTÁCIO|       Administração|commerce|  Core User|     false|               home|076cb277e590ff93d...|      pt|  web_3.3.3|request-friend-co...|   instant-email|           email|       Win32|Page View| 13|       |  Windows 7|  null|45cfd029bd9879a94...|35dd77ac7d0a64b38...|   e|    known|814776f6455d194ed...|\n",
      "|               null|   disciplina|     disciplina|calculo-diferenci...|      Undefined|/disciplina/calcu...|2017-11-16 18:46:44|       Chrome 61|        Claro Brazil|     null|     1900|     br|    ESTÁCIO|Engenharia da Com...|commerce|  Cold User|     false|            arquivo|0c3eae0b2e79b1a18...|      pt|  web_3.3.3|                null|            null|            null|       Win32|Page View|  5|       | Windows 10|  null|aa55632d6a870e8f1...|7e33acc0edb055e9d...|   e|    known|34edc40cf191f63f5...|\n",
      "|               null|   disciplina|     disciplina|aspectos-antropol...|      Undefined|/disciplina/aspec...|2017-11-16 18:52:50|       Chrome 62|Skymax Telecomuni...|     null|     null|     br|ESTÁCIO EAD|           Pedagogia|    null|  Core User|     false|            arquivo|60681cca42202088e...|      pt|  web_3.3.3|                null|            null|            null|       Win32|Page View| 36|       |Windows 8.1|  null|556f1013245d45624...|a227ff2ac003988e8...|   e|    known|333ffbb87fce3258c...|\n",
      "|               null|         home|      Undefined|           Undefined|      Undefined|                   /|2017-11-16 18:52:54|      Firefox 45|        Claro Brazil|     null|     null|     br|ESTÁCIO EAD|Formação de Profe...|    null|Casual User|      true|            arquivo|a8f183a34680419c5...|      pt|  web_3.3.3|                null|            null|            null|       Win32|Page View|  1|       |  Windows 7|  null|928664f552e59855f...|118f34a7f9ee8d40c...|   e|    known|ad693246a23075248...|\n",
      "|               null|      arquivo|           null|                null|           null|/arquivo/26013997...|2017-11-16 18:53:19|Chrome Mobile 62|Telefonica Brasil...|     null|     null|     br|  PITÁGORAS| Engenharia Mecânica|commerce|  Cold User|     false|               null|82a269ae12b30f64b...|      pt|  web_3.3.3|                null|            null|            null|Linux armv7l|Page View|  5|  6.0.1|    Android|  null|5416710d305c6e324...|43557a586fb271e42...|   e|    known|a642fb1b92c7475d7...|\n",
      "|               null|   disciplina|     disciplina|introducao-ao-dir...|      Undefined|/disciplina/intro...|2017-11-16 18:53:07|       Chrome 61|        Claro Brazil|     null|     null|     br|    ESTÁCIO|             Direito|commerce|  Cold User|     false|               null|c19163ab5f2f396fb...|      pt|  web_3.3.3|                null|            null|            null|    MacIntel|Page View|  4|10.12.5|   Mac OS X|  null|ac4f895253637432f...|e2bf57689c73e9e58...|   e|    known|30048f35736a30e42...|\n",
      "|               null|   disciplina|     disciplina|administraCAo-de-...|      Undefined|/disciplina/admin...|2017-11-16 18:53:06|       Chrome 62|    Tim Celular S.a.|     null|    13200|     br|       UERJ|Economia / Ciênci...|    null|  Core User|     false|            arquivo|e27511aeafb651d54...|      pt|  web_3.3.3|                null|            null|            null|       Win32|Page View| 19|       | Windows 10|  null|789224eb4f42ee305...|41c61686a40c78e23...|   e|    known|8ffee1c39e456e712...|\n",
      "|               null|      arquivo|           null|                null|           null|/arquivo/5533375/...|2017-11-16 18:53:07|Mobile Safari 11|        Claro Brazil|     null|     null|     br|       null|                null|    null|       null|      true|               null|4b39e180c97090665...|      pt|  web_3.3.3|                null|            null|            null|      iPhone|Page View|  1| 11.1.1|        iOS|  null|d1932f819e76fb1fa...|2e99524f05bf72781...|   e|    known|297f4522881e09214...|\n",
      "+-------------------+-------------+---------------+--------------------+---------------+--------------------+-------------------+----------------+--------------------+---------+---------+-------+-----------+--------------------+--------+-----------+----------+-------------------+--------------------+--------+-----------+--------------------+----------------+----------------+------------+---------+---+-------+-----------+------+--------------------+--------------------+----+---------+--------------------+\n",
      "only showing top 20 rows\n",
      "\n"
     ]
    }
   ],
   "source": [
    "events.show()"
   ]
  },
  {
   "cell_type": "code",
   "execution_count": 64,
   "metadata": {
    "scrolled": true
   },
   "outputs": [],
   "source": [
    "events = events.withColumnRenamed(\"Last Accessed Url\", \"Last_Accessed_Url\") \\\n",
    "    .withColumnRenamed(\"Page Category\", \"Page_Category\") \\\n",
    "    .withColumnRenamed(\"Page Category 1\", \"Page_Category_1\") \\\n",
    "    .withColumnRenamed(\"Page Category 2\", \"Page_Category_2\") \\\n",
    "    .withColumnRenamed(\"Page Category 3\", \"Page_Category_3\") \\\n",
    "    .withColumnRenamed(\"Page Name\", \"Page_Name\") \\\n",
    "    .withColumnRenamed(\"at\", \"event_at\") \\\n",
    "    .withColumnRenamed(\"first-accessed-page\", \"first_accessed_page\") \\\n",
    "    .withColumnRenamed(\"language\", \"event_language\") \\\n",
    "    .withColumnRenamed(\"name\", \"event_name\") \\\n",
    "    .withColumnRenamed(\"type\", \"event_type\") \\\n",
    "    .withColumnRenamed(\"at\", \"event_at\") \\\n",
    "    .withColumnRenamed(\"custom_1\", \"university\") \\\n",
    "    .withColumnRenamed(\"custom_2\", \"course\") \\\n",
    "    .withColumnRenamed(\"custom_4\", \"user_frequency\")"
   ]
  },
  {
   "cell_type": "code",
   "execution_count": 65,
   "metadata": {
    "scrolled": false
   },
   "outputs": [
    {
     "name": "stdout",
     "output_type": "stream",
     "text": [
      "root\n",
      " |-- Last_Accessed_Url: string (nullable = true)\n",
      " |-- Page_Category: string (nullable = true)\n",
      " |-- Page_Category_1: string (nullable = true)\n",
      " |-- Page_Category_2: string (nullable = true)\n",
      " |-- Page_Category_3: string (nullable = true)\n",
      " |-- Page_Name: string (nullable = true)\n",
      " |-- event_at: string (nullable = true)\n",
      " |-- browser: string (nullable = true)\n",
      " |-- carrier: string (nullable = true)\n",
      " |-- city_name: string (nullable = true)\n",
      " |-- clv_total: long (nullable = true)\n",
      " |-- country: string (nullable = true)\n",
      " |-- university: string (nullable = true)\n",
      " |-- course: string (nullable = true)\n",
      " |-- custom_3: string (nullable = true)\n",
      " |-- user_frequency: string (nullable = true)\n",
      " |-- device_new: boolean (nullable = true)\n",
      " |-- first_accessed_page: string (nullable = true)\n",
      " |-- install_uuid: string (nullable = true)\n",
      " |-- event_language: string (nullable = true)\n",
      " |-- library_ver: string (nullable = true)\n",
      " |-- marketing_campaign: string (nullable = true)\n",
      " |-- marketing_medium: string (nullable = true)\n",
      " |-- marketing_source: string (nullable = true)\n",
      " |-- model: string (nullable = true)\n",
      " |-- event_name: string (nullable = true)\n",
      " |-- nth: long (nullable = true)\n",
      " |-- os_ver: string (nullable = true)\n",
      " |-- platform: string (nullable = true)\n",
      " |-- region: string (nullable = true)\n",
      " |-- session_uuid: string (nullable = true)\n",
      " |-- studentId_clientType: string (nullable = true)\n",
      " |-- event_type: string (nullable = true)\n",
      " |-- user_type: string (nullable = true)\n",
      " |-- uuid: string (nullable = true)\n",
      "\n"
     ]
    }
   ],
   "source": [
    "events.printSchema()"
   ]
  },
  {
   "cell_type": "code",
   "execution_count": 89,
   "metadata": {
    "scrolled": true
   },
   "outputs": [],
   "source": [
    "events_step1 = spSession.sql(\"\"\"\n",
    "    SELECT \n",
    "        EVENT_AT,\n",
    "        TO_DATE(event_at)           AS EVENT_AT_DT,\n",
    "        UPPER(REPLACE(LEFT(LAST_ACCESSED_URL, INSTR(LAST_ACCESSED_URL, '?') -1), '/disciplina/', '')) AS LAST_ACCESSED_URL,\n",
    "        UPPER(PAGE_CATEGORY)        AS PAGE_CATEGORY,\n",
    "        UPPER(REPLACE(LEFT(PAGE_NAME, INSTR(PAGE_NAME, '?') -1), '/disciplina/', '')) AS PAGE_NAME,\n",
    "        UPPER(BROWSER)              AS BROWSER,\n",
    "        UPPER(CARRIER)              AS CARRIER,\n",
    "        COALESCE(CLV_TOTAL, 0)      AS CLV_TOTAL,\n",
    "        UPPER(USER_FREQUENCY)       AS USER_FREQUENCY,\n",
    "        DEVICE_NEW,\n",
    "        EVENT_LANGUAGE,\n",
    "        COALESCE(COALESCE(MARKETING_CAMPAIGN, MARKETING_MEDIUM), MARKETING_SOURCE) AS MARKETING,\n",
    "        UPPER(SESSION_UUID)         AS SESSION_UUID,\n",
    "        UPPER(LEFT(STUDENTID_CLIENTTYPE, INSTR(STUDENTID_CLIENTTYPE, '@') -1)) AS STUDENT_ID,\n",
    "        UPPER(USER_TYPE)            AS USER_TYPE,\n",
    "        UPPER(PLATFORM)             AS PLATFORM,\n",
    "        UPPER(UUID)                 AS UUID\n",
    "    FROM \n",
    "        EVENTS\n",
    "    WHERE\n",
    "        LAST_ACCESSED_URL IS NOT NULL\n",
    "    \"\"\")"
   ]
  },
  {
   "cell_type": "code",
   "execution_count": 90,
   "metadata": {
    "scrolled": true
   },
   "outputs": [
    {
     "name": "stdout",
     "output_type": "stream",
     "text": [
      "root\n",
      " |-- EVENT_AT: string (nullable = true)\n",
      " |-- EVENT_AT_DT: date (nullable = true)\n",
      " |-- LAST_ACCESSED_URL: string (nullable = true)\n",
      " |-- PAGE_CATEGORY: string (nullable = true)\n",
      " |-- PAGE_NAME: string (nullable = true)\n",
      " |-- BROWSER: string (nullable = true)\n",
      " |-- CARRIER: string (nullable = true)\n",
      " |-- CLV_TOTAL: long (nullable = false)\n",
      " |-- USER_FREQUENCY: string (nullable = true)\n",
      " |-- DEVICE_NEW: boolean (nullable = true)\n",
      " |-- EVENT_LANGUAGE: string (nullable = true)\n",
      " |-- MARKETING: string (nullable = true)\n",
      " |-- SESSION_UUID: string (nullable = true)\n",
      " |-- STUDENT_ID: string (nullable = true)\n",
      " |-- USER_TYPE: string (nullable = true)\n",
      " |-- PLATFORM: string (nullable = true)\n",
      " |-- UUID: string (nullable = true)\n",
      "\n"
     ]
    }
   ],
   "source": [
    "events_step1.printSchema()"
   ]
  },
  {
   "cell_type": "code",
   "execution_count": 91,
   "metadata": {},
   "outputs": [],
   "source": [
    "events_step1.registerTempTable(\"events_step1\")"
   ]
  },
  {
   "cell_type": "code",
   "execution_count": 107,
   "metadata": {},
   "outputs": [],
   "source": [
    "studants_test = spSession.sql(\"\"\"\n",
    "    SELECT \n",
    "       DISTINCT A.ID AS STUDENT_ID\n",
    "    FROM \n",
    "        STUDENTS AS A\n",
    "    \"\"\")"
   ]
  },
  {
   "cell_type": "code",
   "execution_count": 108,
   "metadata": {},
   "outputs": [],
   "source": [
    "MYSQL_JDBC_DRIVE = \"com.mysql.jdbc.Driver\"\n",
    "MYSQL_HOST = \"localhost\"\n",
    "MYSQL_DBNAME = \"stage\"\n",
    "MYSQL_TABLE = \"STG_STUDENT\"\n",
    "MYSQL_USERNAME = \"root\"\n",
    "MYSQL_PASSWORD = \"1990\""
   ]
  },
  {
   "cell_type": "code",
   "execution_count": 109,
   "metadata": {},
   "outputs": [],
   "source": [
    "URL = f\"jdbc:mysql://{MYSQL_HOST}/{MYSQL_DBNAME}\""
   ]
  },
  {
   "cell_type": "code",
   "execution_count": 110,
   "metadata": {},
   "outputs": [],
   "source": [
    "studants_test.write.format(\"jdbc\").options(\n",
    "    url = URL,\n",
    "    driver = MYSQL_JDBC_DRIVE,\n",
    "    dbtable = MYSQL_TABLE,\n",
    "    user = MYSQL_USERNAME,\n",
    "    password = MYSQL_PASSWORD).mode('append').save()"
   ]
  }
 ],
 "metadata": {
  "kernelspec": {
   "display_name": "Python 3",
   "language": "python",
   "name": "python3"
  },
  "language_info": {
   "codemirror_mode": {
    "name": "ipython",
    "version": 3
   },
   "file_extension": ".py",
   "mimetype": "text/x-python",
   "name": "python",
   "nbconvert_exporter": "python",
   "pygments_lexer": "ipython3",
   "version": "3.8.5"
  }
 },
 "nbformat": 4,
 "nbformat_minor": 4
}
